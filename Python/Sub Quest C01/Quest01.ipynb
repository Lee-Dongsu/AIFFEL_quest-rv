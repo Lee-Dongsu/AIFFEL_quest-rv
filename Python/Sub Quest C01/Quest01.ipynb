{
  "nbformat": 4,
  "nbformat_minor": 0,
  "metadata": {
    "colab": {
      "provenance": [],
      "include_colab_link": true
    },
    "kernelspec": {
      "name": "python3",
      "display_name": "Python 3"
    },
    "language_info": {
      "name": "python"
    }
  },
  "cells": [
    {
      "cell_type": "markdown",
      "metadata": {
        "id": "view-in-github",
        "colab_type": "text"
      },
      "source": [
        "<a href=\"https://colab.research.google.com/github/SeongJae999/AIFFEL_quest_cr/blob/main/Python/Sub%20Quest%20C01/Quest01.ipynb\" target=\"_parent\"><img src=\"https://colab.research.google.com/assets/colab-badge.svg\" alt=\"Open In Colab\"/></a>"
      ]
    },
    {
      "cell_type": "code",
      "source": [
        "# 회문인지 아닌지 확인하는 프로그램\n",
        "# 회문이란? 앞에서부터 읽어도 뒤에서부터 읽어도 같은 단어, 구, 문장, 숫자, 혹은 문단\n",
        "\n",
        "# 입력값을 적어주세요.\n",
        "print(\"입력값:\")\n",
        "Quest01 = input()\n",
        "print(\"\\n출력값:\\n뒤집힌 단어는:\"+ Quest01[::-1]) # 단어를 뒤집어요.\n",
        "\n",
        "# 회문인지 확인해요.\n",
        "if Quest01 == Quest01[::-1]: # Quest01[::-1]은 거꾸로 뒤집은 문자열 입니다. ex) Quest01 = \"조정민\" 일때, Quest01[::-1]은 \"민정조\"\n",
        "  print(\"입력된 단어는 회문입니다.\")\n",
        "else :\n",
        "  print(\"입력된 단어는 회문이 아닙니다.\")"
      ],
      "metadata": {
        "colab": {
          "base_uri": "https://localhost:8080/"
        },
        "id": "jzVW0yoQuL82",
        "outputId": "a1e4c5a6-55d5-441c-f26b-48991e7d01e7"
      },
      "execution_count": null,
      "outputs": [
        {
          "output_type": "stream",
          "name": "stdout",
          "text": [
            "입력값:\n",
            "조정민\n",
            "\n",
            "출력값:\n",
            "뒤집힌 단어:민정조\n",
            "입력된 단어는 회문이 아닙니다.\n"
          ]
        }
      ]
    },
    {
      "cell_type": "markdown",
      "source": [
        "조정민 : 어제 배웠던 노드를 토대로 페어 프로그래밍을 통해 부족한 부분을 보완할 수 있어 좋았고 재밌었습니다.\n",
        "\n",
        "김아영 : 회문을 만들라는 퀘스트를 이해하는 것부터가 조금 시간이 걸렸지만 감사하게도 설명을 잘해주시는 팀원을 만나서 잘 이해할 수 있었다.\n",
        "어제 배운 내용을 토대로 작성하려고 노력했습니다. 어제 배운 코드들로 회문 확인 프로그램을 만들 수 있는 함수, 자료형, 제어문이 무엇이 있는지 나누었고 이것들을 토대로 활용하여 프로그래밍하였습니다.\n",
        "아직 코드를 짜는 게 익숙하지 않아서 팀원에게 거의 네비게이터 역할을 할 수 밖에 없게끔 만든 것 같아 미안함이 있지만 정말 설명도 잘해주시고 끝까지 따라갈 수 있었던 것 같아 고마움이 더 큽니다."
      ],
      "metadata": {
        "id": "cwOAXvaM_hNY"
      }
    }
  ]
}