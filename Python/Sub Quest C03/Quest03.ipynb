{
  "nbformat": 4,
  "nbformat_minor": 0,
  "metadata": {
    "colab": {
      "provenance": [],
      "private_outputs": true,
      "include_colab_link": true
    },
    "kernelspec": {
      "name": "python3",
      "display_name": "Python 3"
    },
    "language_info": {
      "name": "python"
    }
  },
  "cells": [
    {
      "cell_type": "markdown",
      "metadata": {
        "id": "view-in-github",
        "colab_type": "text"
      },
      "source": [
        "<a href=\"https://colab.research.google.com/github/SeongJae999/AIFFEL_quest_cr/blob/main/Python/Sub%20Quest%20C03/Quest03.ipynb\" target=\"_parent\"><img src=\"https://colab.research.google.com/assets/colab-badge.svg\" alt=\"Open In Colab\"/></a>"
      ]
    },
    {
      "cell_type": "markdown",
      "source": [
        "# [파이썬] 퀘스트: 클로저를 활용한 문제해결하기\n",
        "\n",
        "난이도: ★★★★☆  \n",
        "장르: nonlocal, 클로저, 데코레이터 활용  \n",
        "\n",
        "---\n",
        "\n",
        "\n"
      ],
      "metadata": {
        "id": "sPRcyZsPorCm"
      }
    },
    {
      "cell_type": "markdown",
      "source": [
        "## 문제 1. 최댓값과 최솟값 찾기\n",
        "\n"
      ],
      "metadata": {
        "id": "Dh2vcnApr4VI"
      }
    },
    {
      "cell_type": "markdown",
      "source": [
        "조건:  \n",
        "* 주어진 리스트의 최댓값과 최솟값을 반환하는 클로저 함수를 완성해 주세요.\n",
        "    * 주어진 숫자 리스트 numbers에 대해 find_min_max 함수를 호출하면 find_min과 find_max 함수를 얻을 수 있습니다.\n",
        "    * find_min() 함수를 호출하면 최솟값을, find_max()함수를 호출하면 최댓값을 반환합니다.\n",
        "    * 클로저를 사용하여 min_value와 max_value 변수를 외부에 노출하지 않고도 최솟값과 최대값을 찾을 수 있습니다.\n",
        "    * find_min_max 함수가 호출된 이후에도 find_min과 find_max 함수를 통해 min_value와 max_value 변수에 접근할 수 있습니다.\n",
        "* 주석으로 구현 내용이 써있는 부분을 코드로 채워주세요.\n",
        "---\n",
        "입력:\n",
        "```python\n",
        "numbers = [10, 5, 8, 12, 3, 7]\n",
        "find_min, find_max = find_min_max(numbers)\n",
        "\n",
        "print(\"최솟값:\", find_min())  \n",
        "print(\"최댓값:\", find_max())  \n",
        "```\n",
        "---\n",
        "출력:\n",
        "```\n",
        "3\n",
        "12\n",
        "```\n"
      ],
      "metadata": {
        "id": "d-vXJztpvFD-"
      }
    },
    {
      "cell_type": "code",
      "source": [
        "# 클로저 함수의 조건\n",
        "# 1. 어떤 함수의 내부 함수일 것\n",
        "# 2. 그 내부함수가 외부함수의 변수를 참조할 것: nonlocal\n",
        "# 3. 외부함수가 내부함수를 return할 것\n",
        "def find_min_max(numbers):\n",
        "    # min_value와 max_value 변수를 초기화\n",
        "    # min_value는 양의 무한대(float('inf'))로 초기화하여 어떤 숫자보다도 큰 값으로 설정\n",
        "    min_value = float('inf')\n",
        "    # max_value는 음의 무한대(float('-inf'))로 초기화하여 어떤 숫자보다도 작은 값으로 설정\n",
        "    max_value = float('-inf')\n",
        "\n",
        "    # *** 클로저 함수 조건1 충족 ***\n",
        "    def update_min_max(num):\n",
        "        # 외부함수의 변수인 min_value, max_value 참조\n",
        "        nonlocal min_value, max_value   # *** 클로저 함수 조건2 충족 ***\n",
        "\n",
        "        # 만약 num 값이 min_value보다 작다면 min_value를 num 값으로 변경\n",
        "        if num < min_value:\n",
        "            min_value = num\n",
        "\n",
        "        # 만약 num 값이 max_value보다 크다면 max_value를 num 값으로 변경\n",
        "        if num > max_value:\n",
        "            max_value = num\n",
        "\n",
        "            # numbers 리스트의 모든 값을 순환하며 최댓값과 최솟값 업데이트\n",
        "    for num in numbers:\n",
        "        update_min_max(num)\n",
        "\n",
        "    # 최솟값을 반환하는 내부함수\n",
        "    def get_min():\n",
        "        return min_value\n",
        "\n",
        "    # 최댓값을 반환하는 내부함수\n",
        "    def get_max():\n",
        "        return max_value\n",
        "\n",
        "    # 외부함수는 내부함수(get_min()과 get_max())를 반환\n",
        "    return get_min, get_max   # *** 클로저 함수 조건3 충족 ***\n"
      ],
      "metadata": {
        "id": "oF_uYyS2jjPj"
      },
      "execution_count": null,
      "outputs": []
    },
    {
      "cell_type": "code",
      "source": [
        "numbers = [10, 5, 8, 12, 3, 7]\n",
        "find_min, find_max = find_min_max(numbers)\n",
        "\n",
        "print(\"최솟값:\", find_min())  # 3\n",
        "print(\"최댓값:\", find_max())  # 12"
      ],
      "metadata": {
        "id": "fCd_fJBrobxi"
      },
      "execution_count": null,
      "outputs": []
    },
    {
      "cell_type": "markdown",
      "source": [
        "## 문제 2. 함수의 호출 횟수를 세는 데코레이터"
      ],
      "metadata": {
        "id": "d3XECsmXwES5"
      }
    },
    {
      "cell_type": "markdown",
      "source": [
        "지난 시간에 배운 데코레이터를 기억하시나요? 데코레이터도 내부함수를 반환하는 클로저를 활용한 문법입니다. 클로저를 활용하여 함수 호출 횟수를 출력하는 데코레이터를 만들어봅시다.\n",
        "\n",
        "조건:\n",
        "* 함수가 실행될 때 마다 함수 이름과 실행 횟수를 출력하는 데코레이터 `counter` 만들기  \n",
        "\n",
        "힌트:\n",
        "* 데코레이터의 내부 함수(클로저)는 실행횟수를 기억하기 위해 외부 함수의 변수를 참조 해야 합니다\n",
        "* 함수의 이름은 `함수이름.__name__`으로 접근할 수 있습니다.\n",
        "\n",
        "---\n",
        "입력:\n",
        "```python\n",
        "@counter\n",
        "def say_hello():\n",
        "    print(\"Hello Aiffel!\")\n",
        "\n",
        "for i in range(5):\n",
        "    say_hello()\n",
        "```\n",
        "---\n",
        "출력:\n",
        "```\n",
        "Hello Aiffel!\n",
        "say_hello 실행횟수: 1\n",
        "Hello Aiffel!\n",
        "say_hello 실행횟수: 2\n",
        "Hello Aiffel!\n",
        "say_hello 실행횟수: 3\n",
        "Hello Aiffel!\n",
        "say_hello 실행횟수: 4\n",
        "Hello Aiffel!\n",
        "say_hello 실행횟수: 5\n",
        "```"
      ],
      "metadata": {
        "id": "HTdH6DkVvJMF"
      }
    },
    {
      "cell_type": "code",
      "source": [
        "# 클로저 함수의 조건\n",
        "# 1. 어떤 함수의 내부 함수일 것\n",
        "# 2. 그 내부함수가 외부함수의 변수를 참조할 것: nonlocal\n",
        "# 3. 외부함수가 내부함수를 return할 것\n",
        "\n",
        "# 실행함수를 기억하기 위한 외부함수의 변수\n",
        "def counter(fn):\n",
        "  count = 0       # 외부함수의 변수\n",
        "  def memory():     # ***클로저 함수 조건1 충족***\n",
        "    nonlocal count    # ***클로저 함수 조건2 충족***\n",
        "    count += 1\n",
        "    fn()    # 기존함수(\"say_hello\") 호출\n",
        "    print(f\"{fn.__name__} 실행횟수 : {count}\")   # 함수의 이름은 {함수 이름.__name__}으로 접근할 수 있다\n",
        "  return memory   # ***클로저 함수 조건3 충족***\n",
        "\n",
        "@counter    # \"@\"를 사용해서 데코레이터 함수 호출\n",
        "def say_hello():\n",
        "    print(\"Hello Aiffel!\")\n",
        "\n",
        "for i in range(5):\n",
        "    say_hello()\n",
        "\n",
        "# 처음 디버깅시 say_hello()인수를 fn 매개변수에 설정하지 않아서 아래처럼 출력됨 | \"def counter():\"\n",
        "# say_hello 실행횟수: 1\n",
        "# say_hello 실행횟수: 2\n",
        "# say_hello 실행횟수: 3\n",
        "# say_hello 실행횟수: 4\n",
        "# say_hello 실행횟수: 5\n",
        "\n",
        "\n"
      ],
      "metadata": {
        "id": "QYdFtnf-MOCg"
      },
      "execution_count": null,
      "outputs": []
    },
    {
      "cell_type": "markdown",
      "source": [
        "조정민: 지난 어벤저스 단어장 만들기 페어프로그래밍때보다 밸런스패치가 되어서 이번 페어프로그래밍은 여유롭게 진행할 수 있었던 것 같습니다. 그래서 서로 드라이버와 네비게이터를 돌아가면서 진행하는게 수월했고 지난 페어프로그래밍때도 어려운만큼 재밌었는데 이번에는 페어프로그래밍 그루와 더욱 소통하면서 진행할 수 있어서 재밌었습니다.\n",
        "\n",
        "김아영: 문제1을 통해 클로저에 대한 이해를 한번더 상기하였고, 문제2를 통해 클로저와 데코레이터 함수를 활용해보았다. 문제2에서는 주로 네비게이터역할로 퀘스트를 수행하였는데 중간중간에 매개변수 미설정 또는 잘못된 코딩으로 에러가 나는 것을 확인하면서 코딩을 하였다. 또한 정민님의 힌트를 받아 퀘스트를 실행하면서 내가 놓치고 있는 부분이 무엇인지를 정확하게 파악할 수 있었고, 이를 통해 많은 자료를 참고하면서 코딩을 한다면 좀 더 좋은 결과물을 낼 수 있을거라는 생각도 들었다."
      ],
      "metadata": {
        "id": "40_yxsNf2CpB"
      }
    }
  ]
}