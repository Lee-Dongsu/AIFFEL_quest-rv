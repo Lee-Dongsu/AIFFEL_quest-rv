{
  "nbformat": 4,
  "nbformat_minor": 0,
  "metadata": {
    "colab": {
      "provenance": [],
      "include_colab_link": true
    },
    "kernelspec": {
      "name": "python3",
      "display_name": "Python 3"
    },
    "language_info": {
      "name": "python"
    }
  },
  "cells": [
    {
      "cell_type": "markdown",
      "metadata": {
        "id": "view-in-github",
        "colab_type": "text"
      },
      "source": [
        "<a href=\"https://colab.research.google.com/github/SeongJae999/AIFFEL_quest_cr/blob/main/Python/Sub%20Quest%20C02/Quest02.ipynb\" target=\"_parent\"><img src=\"https://colab.research.google.com/assets/colab-badge.svg\" alt=\"Open In Colab\"/></a>"
      ]
    },
    {
      "cell_type": "code",
      "source": [
        "from google.colab import drive\n",
        "drive.mount('/content/drive')"
      ],
      "metadata": {
        "id": "U-AUoC6zT_xc",
        "colab": {
          "base_uri": "https://localhost:8080/"
        },
        "outputId": "1ffee926-a653-47e8-8a66-ffe44b98b696"
      },
      "execution_count": null,
      "outputs": [
        {
          "output_type": "stream",
          "name": "stdout",
          "text": [
            "Mounted at /content/drive\n"
          ]
        }
      ]
    },
    {
      "cell_type": "code",
      "source": [
        "from collections import Counter\n",
        "import string\n",
        "\n",
        "def encoder(vocab):\n",
        "  text = input(\"정수로 변환할 문장을 입력하세요 : \").split() # 입력된 text를 공백 기준으로 나누어 배열에 저장\n",
        "  return [vocab[i] for i in text]\n",
        "\n",
        "Avengers = open('/content/drive/MyDrive/AIFFEL_2024/Avengers.txt', 'r')\n",
        "Avengers = Avengers.read().lower().replace('\\n', ' ') # Avengers의 문자열을 읽어오고, 소문자로 변환하고, 개행문자를 ' '로 대체\n",
        "Avengers = Avengers.translate(str.maketrans('','',string.punctuation)).split() # 특수문자 모음인 string.punctuation 으로 특수문자 삭제\n",
        "\n",
        "dic = Counter(Avengers) # Counter를 이용해 Avengers 배열의 중복 갯수 정의\n",
        "dic = dict(sorted(dic.items(), key=lambda item:item[1], reverse=True)) # dic.items() : dic를 정렬 / key=lambda item:item[1] : dic의 value값을 기준으로 정렬 / reverse=True : 내림차순으로 정렬\n",
        "\n",
        "vocab = {k:v for k, v in zip(dic.keys(), [i for i in range(len(dic))])} # 정렬된 dic의 value를 정렬 순서대로 인덱스를 부여\n",
        "\n",
        "print(encoder(vocab))"
      ],
      "metadata": {
        "colab": {
          "base_uri": "https://localhost:8080/"
        },
        "id": "NJTbRkwJ-krW",
        "outputId": "42813321-6621-4f63-fece-d664bd631e51"
      },
      "execution_count": 10,
      "outputs": [
        {
          "output_type": "stream",
          "name": "stdout",
          "text": [
            "정수로 변환할 문장을 입력하세요 : i am a boy\n",
            "[2, 131, 3, 549]\n"
          ]
        }
      ]
    },
    {
      "cell_type": "markdown",
      "source": [
        "회고 : 쉽지 않은 내용이었어서 서로 이해시켜주며 공부해서 실력이 늘어나는데 도움이 되었습니다."
      ],
      "metadata": {
        "id": "kWskriVLKxzg"
      }
    }
  ]
}