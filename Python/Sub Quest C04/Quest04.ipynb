{
  "nbformat": 4,
  "nbformat_minor": 0,
  "metadata": {
    "colab": {
      "provenance": [],
      "include_colab_link": true
    },
    "kernelspec": {
      "name": "python3",
      "display_name": "Python 3"
    },
    "language_info": {
      "name": "python"
    }
  },
  "cells": [
    {
      "cell_type": "markdown",
      "metadata": {
        "id": "view-in-github",
        "colab_type": "text"
      },
      "source": [
        "<a href=\"https://colab.research.google.com/github/SeongJae999/AIFFEL_quest_cr/blob/main/Python/Sub%20Quest%20C04/Quest04.ipynb\" target=\"_parent\"><img src=\"https://colab.research.google.com/assets/colab-badge.svg\" alt=\"Open In Colab\"/></a>"
      ]
    },
    {
      "cell_type": "code",
      "execution_count": null,
      "metadata": {
        "id": "Gma0PyPHsEtH",
        "colab": {
          "base_uri": "https://localhost:8080/"
        },
        "outputId": "759d5e80-dfc3-48a6-b1a5-d978d179cd02"
      },
      "outputs": [
        {
          "output_type": "stream",
          "name": "stdout",
          "text": [
            "두개의 숫자를 입력하세요 : 1 2\n",
            "연산자를 입력하세요 : *\n",
            "1 * 2 = 2\n",
            "계산을 다시 하시겠습니까? (y/n) : t\n",
            "잘못된 입력입니다. y 또는 n을 입력해주세요 :\n",
            "두개의 숫자를 입력하세요 : 1 2\n",
            "연산자를 입력하세요 : *\n",
            "1 * 2 = 2\n",
            "계산을 다시 하시겠습니까? (y/n) : n\n",
            "프로그램을 종료합니다.\n"
          ]
        }
      ],
      "source": [
        "import math # pow() 함수를 불러오기 위해 math 모듈 import / Quest04 다섯번째 조건 충족\n",
        "\n",
        "while True : # Quest04 두번째 조건 충족\n",
        "  try :\n",
        "    number_1, number_2 = map(int,input('두개의 숫자를 입력하세요 : ').split())  # 두개의 입력값을 받는다\n",
        "    operator = input('연산자를 입력하세요(+, -, *, /, **) : ')  # 보기의 연산자 중에 하나를 입력받는다\n",
        "    if operator == '+' :\n",
        "      print(f'{number_1} + {number_2} = {number_1 + number_2}') # +가 입력되면 \"number1 + number = (number1 + number2)\"가 출력된다.\n",
        "    elif operator == '-' :\n",
        "      print(f'{number_1} - {number_2} = {number_1 - number_2}') # -가 입력되면 \"number1 - number = (number1 - number2)\"가 출력된다.\n",
        "    elif operator == '*' :\n",
        "      print(f'{number_1} * {number_2} = {number_1 * number_2}') # *가 입력되면 \"number1 * number = (number1 * number2)\"가 출력된다.\n",
        "    elif operator == '/' :\n",
        "      print(f'{number_1} / {number_2} = {number_1 / number_2}') # /가 입력되면 \"number1 / number = (number1 / number2)\"가 출력된다.\n",
        "    elif operator == '**' :\n",
        "      print(f'{number_1} ** {number_2} = {math.pow(number_1, number_2)}') # **가 입력되면 \"number1 ** number = (number1 ** number2)\"가 출력된다.\n",
        "    else :\n",
        "      print('지원되는 연산자가 아닙니다') # Quest04 네번째 조건 충족\n",
        "      # raise ValueError('지원되는 연산자가 아닙니다')\n",
        "\n",
        "  except ValueError :\n",
        "    print('잘못된 입력입니다. 정수를 입력해주세요') # Quest04 첫번째 조건 충족\n",
        "  except ZeroDivisionError :\n",
        "    print('0으로 나눌 수 없습니다.') # Quest04 세번째 조건 충족\n",
        "\n",
        "  finally : # Quest04 여섯번째 조건 충족\n",
        "    again = input('계산을 다시 하시겠습니까? (y/n) : ')\n",
        "    if again == 'y' :\n",
        "      continue # 조건이 충족되었을 경우, while문 처음으로 돌아간다.\n",
        "    elif again == 'n' :\n",
        "      print('프로그램을 종료합니다.')\n",
        "      break\n",
        "    else :\n",
        "      print('잘못된 입력입니다. y 또는 n을 입력해주세요')\n",
        "  # finally :\n",
        "  #   while True :\n",
        "  #     try :\n",
        "  #       again = input('계산을 다시 하시겠습니까? (y/n) : ')\n",
        "  #       if again == 'y' :\n",
        "  #         break\n",
        "  #       elif again == 'n' :\n",
        "  #         print('프로그램을 종료합니다.')\n",
        "  #         exit()\n",
        "  #       else :\n",
        "  #         continue\n",
        "  #     except ValueError :\n",
        "  #       print('잘못된 입력입니다. y 또는 n을 입력해주세요 :')\n",
        "\n"
      ]
    },
    {
      "cell_type": "markdown",
      "source": [
        "조정민: 오늘 그루분이 어제 수업내용을 모르셔서 쉽지 않으셨을텐데 제가 어제 배운걸 토대로 알려드리면서 중간 중간 부족하다 느끼신 부분도 지적해주셔서 퀘스트를 완료할 수 있었던 것 같아 오늘도 재밌었습니다.\n",
        "\n",
        "강민구: math의 내용을 알지 못해 접근하기가 쉽지 않았으나 정민님의 도움으로 차근 차근 이해하며 코딩이 가능해졌습니다.\n",
        "처음 퀘스트를 풀이 할때 보다 조금씩 이해도가 나아지는거 같습니다."
      ],
      "metadata": {
        "id": "Xwf4P0wuCZK7"
      }
    }
  ]
}