{
  "nbformat": 4,
  "nbformat_minor": 0,
  "metadata": {
    "colab": {
      "provenance": [],
      "include_colab_link": true
    },
    "kernelspec": {
      "name": "python3",
      "display_name": "Python 3"
    },
    "language_info": {
      "name": "python"
    }
  },
  "cells": [
    {
      "cell_type": "markdown",
      "metadata": {
        "id": "view-in-github",
        "colab_type": "text"
      },
      "source": [
        "<a href=\"https://colab.research.google.com/github/SeongJae999/AIFFEL_quest_cr/blob/main/Python/Quest01/Quest01.ipynb\" target=\"_parent\"><img src=\"https://colab.research.google.com/assets/colab-badge.svg\" alt=\"Open In Colab\"/></a>"
      ]
    },
    {
      "cell_type": "code",
      "source": [
        "# 회문인지 아닌지 확인하는 프로그램\n",
        "# 회문이란? 앞에서부터 읽어도 뒤에서부터 읽어도 같은 단어, 구, 문장, 숫자, 혹은 문단\n",
        "\n",
        "# 입력값을 적어주세요.\n",
        "print(\"입력값:\")\n",
        "Quest01 = input()\n",
        "print(\"\\n출력값:\\n뒤집힌 단어는:\"+ Quest01[::-1]) # 단어를 뒤집어요.\n",
        "\n",
        "# 회문인지 확인해요.\n",
        "if Quest01 == Quest01[::-1]: # Quest01[::-1]은 거꾸로 뒤집은 문자열 입니다. ex) Quest01 = \"조정민\" 일때, Quest01[::-1]은 \"민정조\"\n",
        "  print(\"입력된 단어는 회문입니다.\")\n",
        "else :\n",
        "  print(\"입력된 단어는 회문이 아닙니다.\")"
      ],
      "metadata": {
        "colab": {
          "base_uri": "https://localhost:8080/"
        },
        "id": "jzVW0yoQuL82",
        "outputId": "a1e4c5a6-55d5-441c-f26b-48991e7d01e7"
      },
      "execution_count": null,
      "outputs": [
        {
          "output_type": "stream",
          "name": "stdout",
          "text": [
            "입력값:\n",
            "조정민\n",
            "\n",
            "출력값:\n",
            "뒤집힌 단어:민정조\n",
            "입력된 단어는 회문이 아닙니다.\n"
          ]
        }
      ]
    }
  ]
}